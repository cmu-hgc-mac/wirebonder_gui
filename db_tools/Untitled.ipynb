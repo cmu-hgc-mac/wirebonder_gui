{
 "cells": [
  {
   "cell_type": "code",
   "execution_count": 2,
   "id": "864dc420",
   "metadata": {},
   "outputs": [
    {
     "name": "stdout",
     "output_type": "stream",
     "text": [
      "Connection successful!\n"
     ]
    }
   ],
   "source": [
    "import asyncpg, asyncio\n",
    "conn = await (asyncpg.connect(\n",
    "        host='localhost',\n",
    "        password='hgcal',\n",
    "        database='hgcdb',\n",
    "        user='wirebond_user'))\n",
    "print('Connection successful!')"
   ]
  },
  {
   "cell_type": "code",
   "execution_count": null,
   "id": "260e1ed1",
   "metadata": {},
   "outputs": [],
   "source": []
  }
 ],
 "metadata": {
  "kernelspec": {
   "display_name": "Python 3 (ipykernel)",
   "language": "python",
   "name": "python3"
  },
  "language_info": {
   "codemirror_mode": {
    "name": "ipython",
    "version": 3
   },
   "file_extension": ".py",
   "mimetype": "text/x-python",
   "name": "python",
   "nbconvert_exporter": "python",
   "pygments_lexer": "ipython3",
   "version": "3.11.5"
  }
 },
 "nbformat": 4,
 "nbformat_minor": 5
}
